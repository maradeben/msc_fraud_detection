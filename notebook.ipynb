{
 "cells": [
  {
   "cell_type": "code",
   "execution_count": 2,
   "id": "153524dc",
   "metadata": {},
   "outputs": [],
   "source": [
    "import zipfile\n",
    "import os"
   ]
  },
  {
   "cell_type": "markdown",
   "id": "e4fd9db7",
   "metadata": {},
   "source": [
    "# 1. Preprocessing Data\n",
    "\n",
    "## 1a. Extract from archive"
   ]
  },
  {
   "cell_type": "code",
   "execution_count": 4,
   "id": "2fb84003",
   "metadata": {},
   "outputs": [],
   "source": [
    "# extract data from archive\n",
    "\n",
    "zip_file = \"data/raw/archive.zip\"\n",
    "extract_dir = \"data/raw/\"\n",
    "\n",
    "with zipfile.ZipFile(zip_file, 'r') as zip_ref:\n",
    "    zip_ref.extractall(extract_dir)"
   ]
  },
  {
   "cell_type": "markdown",
   "id": "9bda6655",
   "metadata": {},
   "source": [
    "## 1b. Preprocessing Data"
   ]
  },
  {
   "cell_type": "code",
   "execution_count": null,
   "id": "8f0451c4",
   "metadata": {},
   "outputs": [],
   "source": []
  }
 ],
 "metadata": {
  "kernelspec": {
   "display_name": "fraud_detection",
   "language": "python",
   "name": "python3"
  },
  "language_info": {
   "codemirror_mode": {
    "name": "ipython",
    "version": 3
   },
   "file_extension": ".py",
   "mimetype": "text/x-python",
   "name": "python",
   "nbconvert_exporter": "python",
   "pygments_lexer": "ipython3",
   "version": "3.8.20"
  }
 },
 "nbformat": 4,
 "nbformat_minor": 5
}
