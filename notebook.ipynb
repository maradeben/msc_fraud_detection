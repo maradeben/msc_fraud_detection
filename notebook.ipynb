{
 "cells": [
  {
   "cell_type": "markdown",
   "id": "fb77c71e",
   "metadata": {},
   "source": [
    "# MSc Project\n",
    "## Adaptive Classifier for Concept Drift with Web Interface for Fraud DetectionStakeholder"
   ]
  },
  {
   "cell_type": "code",
   "execution_count": 214,
   "id": "153524dc",
   "metadata": {},
   "outputs": [],
   "source": [
    "import zipfile\n",
    "import os\n",
    "from pathlib import Path\n",
    "\n",
    "import pandas as pd\n",
    "import numpy as np\n",
    "from sklearn.preprocessing import StandardScaler\n",
    "from sklearn.model_selection import train_test_split\n",
    "from sklearn.metrics import precision_score, accuracy_score, recall_score, f1_score, confusion_matrix\n",
    "from sklearn.ensemble import RandomForestClassifier\n",
    "from imblearn.over_sampling import SMOTE\n",
    "import joblib"
   ]
  },
  {
   "cell_type": "markdown",
   "id": "e4fd9db7",
   "metadata": {},
   "source": [
    "# 1. Extracting and Subsetting\n",
    "\n",
    "\n",
    "_N:B: Sections 1 only needs to be run once (the first time this notebook is run) with archive.zip. The results of this extracting and subsetting is saved in the \"data/processed/paysim_subsample.csv\" file and is used forward from Section 2._"
   ]
  },
  {
   "cell_type": "markdown",
   "id": "0075d0a6",
   "metadata": {},
   "source": [
    "## 1.1. Extract from archive"
   ]
  },
  {
   "cell_type": "code",
   "execution_count": null,
   "id": "2fb84003",
   "metadata": {},
   "outputs": [],
   "source": [
    "# !! cell can be commented out after the first run as it has served it's purpose !!\n",
    "# extract data from archive\n",
    "\n",
    "zip_file = \"data/raw/archive.zip\"\n",
    "extract_dir = \"data/raw/\"\n",
    "\n",
    "with zipfile.ZipFile(zip_file, 'r') as zip_ref:\n",
    "    zip_ref.extractall(extract_dir)"
   ]
  },
  {
   "cell_type": "markdown",
   "id": "9bda6655",
   "metadata": {},
   "source": [
    "## 1.2. Load and Inspect Data"
   ]
  },
  {
   "cell_type": "code",
   "execution_count": 3,
   "id": "8f0451c4",
   "metadata": {},
   "outputs": [
    {
     "name": "stdout",
     "output_type": "stream",
     "text": [
      "app   deploy.sh  fraud-detection-msc  notebook.ipynb  README.md\n",
      "data  doc.txt\t models\t\t      outputs\t      scripts\n"
     ]
    }
   ],
   "source": [
    "!ls"
   ]
  },
  {
   "cell_type": "code",
   "execution_count": null,
   "id": "a881baaa",
   "metadata": {},
   "outputs": [],
   "source": [
    "full_data_dir = \"data/raw/PS_20174392719_1491204439457_log.csv\"\n",
    "full_df = pd.read_csv(full_data_dir)"
   ]
  },
  {
   "cell_type": "code",
   "execution_count": 5,
   "id": "78862e02",
   "metadata": {},
   "outputs": [
    {
     "name": "stdout",
     "output_type": "stream",
     "text": [
      "<class 'pandas.core.frame.DataFrame'>\n",
      "RangeIndex: 6362620 entries, 0 to 6362619\n",
      "Data columns (total 11 columns):\n",
      " #   Column          Dtype  \n",
      "---  ------          -----  \n",
      " 0   step            int64  \n",
      " 1   type            object \n",
      " 2   amount          float64\n",
      " 3   nameOrig        object \n",
      " 4   oldbalanceOrg   float64\n",
      " 5   newbalanceOrig  float64\n",
      " 6   nameDest        object \n",
      " 7   oldbalanceDest  float64\n",
      " 8   newbalanceDest  float64\n",
      " 9   isFraud         int64  \n",
      " 10  isFlaggedFraud  int64  \n",
      "dtypes: float64(5), int64(3), object(3)\n",
      "memory usage: 534.0+ MB\n",
      "None\n"
     ]
    },
    {
     "data": {
      "text/html": [
       "<div>\n",
       "<style scoped>\n",
       "    .dataframe tbody tr th:only-of-type {\n",
       "        vertical-align: middle;\n",
       "    }\n",
       "\n",
       "    .dataframe tbody tr th {\n",
       "        vertical-align: top;\n",
       "    }\n",
       "\n",
       "    .dataframe thead th {\n",
       "        text-align: right;\n",
       "    }\n",
       "</style>\n",
       "<table border=\"1\" class=\"dataframe\">\n",
       "  <thead>\n",
       "    <tr style=\"text-align: right;\">\n",
       "      <th></th>\n",
       "      <th>step</th>\n",
       "      <th>type</th>\n",
       "      <th>amount</th>\n",
       "      <th>nameOrig</th>\n",
       "      <th>oldbalanceOrg</th>\n",
       "      <th>newbalanceOrig</th>\n",
       "      <th>nameDest</th>\n",
       "      <th>oldbalanceDest</th>\n",
       "      <th>newbalanceDest</th>\n",
       "      <th>isFraud</th>\n",
       "      <th>isFlaggedFraud</th>\n",
       "    </tr>\n",
       "  </thead>\n",
       "  <tbody>\n",
       "    <tr>\n",
       "      <th>0</th>\n",
       "      <td>1</td>\n",
       "      <td>PAYMENT</td>\n",
       "      <td>9839.64</td>\n",
       "      <td>C1231006815</td>\n",
       "      <td>170136.0</td>\n",
       "      <td>160296.36</td>\n",
       "      <td>M1979787155</td>\n",
       "      <td>0.0</td>\n",
       "      <td>0.0</td>\n",
       "      <td>0</td>\n",
       "      <td>0</td>\n",
       "    </tr>\n",
       "    <tr>\n",
       "      <th>1</th>\n",
       "      <td>1</td>\n",
       "      <td>PAYMENT</td>\n",
       "      <td>1864.28</td>\n",
       "      <td>C1666544295</td>\n",
       "      <td>21249.0</td>\n",
       "      <td>19384.72</td>\n",
       "      <td>M2044282225</td>\n",
       "      <td>0.0</td>\n",
       "      <td>0.0</td>\n",
       "      <td>0</td>\n",
       "      <td>0</td>\n",
       "    </tr>\n",
       "    <tr>\n",
       "      <th>2</th>\n",
       "      <td>1</td>\n",
       "      <td>TRANSFER</td>\n",
       "      <td>181.00</td>\n",
       "      <td>C1305486145</td>\n",
       "      <td>181.0</td>\n",
       "      <td>0.00</td>\n",
       "      <td>C553264065</td>\n",
       "      <td>0.0</td>\n",
       "      <td>0.0</td>\n",
       "      <td>1</td>\n",
       "      <td>0</td>\n",
       "    </tr>\n",
       "    <tr>\n",
       "      <th>3</th>\n",
       "      <td>1</td>\n",
       "      <td>CASH_OUT</td>\n",
       "      <td>181.00</td>\n",
       "      <td>C840083671</td>\n",
       "      <td>181.0</td>\n",
       "      <td>0.00</td>\n",
       "      <td>C38997010</td>\n",
       "      <td>21182.0</td>\n",
       "      <td>0.0</td>\n",
       "      <td>1</td>\n",
       "      <td>0</td>\n",
       "    </tr>\n",
       "    <tr>\n",
       "      <th>4</th>\n",
       "      <td>1</td>\n",
       "      <td>PAYMENT</td>\n",
       "      <td>11668.14</td>\n",
       "      <td>C2048537720</td>\n",
       "      <td>41554.0</td>\n",
       "      <td>29885.86</td>\n",
       "      <td>M1230701703</td>\n",
       "      <td>0.0</td>\n",
       "      <td>0.0</td>\n",
       "      <td>0</td>\n",
       "      <td>0</td>\n",
       "    </tr>\n",
       "  </tbody>\n",
       "</table>\n",
       "</div>"
      ],
      "text/plain": [
       "   step      type    amount     nameOrig  oldbalanceOrg  newbalanceOrig  \\\n",
       "0     1   PAYMENT   9839.64  C1231006815       170136.0       160296.36   \n",
       "1     1   PAYMENT   1864.28  C1666544295        21249.0        19384.72   \n",
       "2     1  TRANSFER    181.00  C1305486145          181.0            0.00   \n",
       "3     1  CASH_OUT    181.00   C840083671          181.0            0.00   \n",
       "4     1   PAYMENT  11668.14  C2048537720        41554.0        29885.86   \n",
       "\n",
       "      nameDest  oldbalanceDest  newbalanceDest  isFraud  isFlaggedFraud  \n",
       "0  M1979787155             0.0             0.0        0               0  \n",
       "1  M2044282225             0.0             0.0        0               0  \n",
       "2   C553264065             0.0             0.0        1               0  \n",
       "3    C38997010         21182.0             0.0        1               0  \n",
       "4  M1230701703             0.0             0.0        0               0  "
      ]
     },
     "execution_count": 5,
     "metadata": {},
     "output_type": "execute_result"
    }
   ],
   "source": [
    "print(full_df.info())\n",
    "full_df.head()"
   ]
  },
  {
   "cell_type": "code",
   "execution_count": 6,
   "id": "5bf0d1c7",
   "metadata": {},
   "outputs": [
    {
     "name": "stdout",
     "output_type": "stream",
     "text": [
      "Full Dataset: 6362620 row, Fraud Rate: 0.0013\n"
     ]
    }
   ],
   "source": [
    "print(f\"Full Dataset: {len(full_df)} row, Fraud Rate: {full_df['isFraud'].mean():.4f}\")"
   ]
  },
  {
   "cell_type": "code",
   "execution_count": 7,
   "id": "91ebc31c",
   "metadata": {},
   "outputs": [
    {
     "data": {
      "text/plain": [
       "step              0\n",
       "type              0\n",
       "amount            0\n",
       "nameOrig          0\n",
       "oldbalanceOrg     0\n",
       "newbalanceOrig    0\n",
       "nameDest          0\n",
       "oldbalanceDest    0\n",
       "newbalanceDest    0\n",
       "isFraud           0\n",
       "isFlaggedFraud    0\n",
       "dtype: int64"
      ]
     },
     "execution_count": 7,
     "metadata": {},
     "output_type": "execute_result"
    }
   ],
   "source": [
    "# check for missing data\n",
    "full_df.isna().sum()"
   ]
  },
  {
   "cell_type": "markdown",
   "id": "ecfb0cf8",
   "metadata": {},
   "source": [
    "## 1.3. Subsample Data\n",
    "Select a subsample of 100,000 records"
   ]
  },
  {
   "cell_type": "code",
   "execution_count": 8,
   "id": "4960f621",
   "metadata": {},
   "outputs": [
    {
     "data": {
      "text/html": [
       "<div>\n",
       "<style scoped>\n",
       "    .dataframe tbody tr th:only-of-type {\n",
       "        vertical-align: middle;\n",
       "    }\n",
       "\n",
       "    .dataframe tbody tr th {\n",
       "        vertical-align: top;\n",
       "    }\n",
       "\n",
       "    .dataframe thead th {\n",
       "        text-align: right;\n",
       "    }\n",
       "</style>\n",
       "<table border=\"1\" class=\"dataframe\">\n",
       "  <thead>\n",
       "    <tr style=\"text-align: right;\">\n",
       "      <th></th>\n",
       "      <th>original_index</th>\n",
       "      <th>step</th>\n",
       "      <th>type</th>\n",
       "      <th>amount</th>\n",
       "      <th>nameOrig</th>\n",
       "      <th>oldbalanceOrg</th>\n",
       "      <th>newbalanceOrig</th>\n",
       "      <th>nameDest</th>\n",
       "      <th>oldbalanceDest</th>\n",
       "      <th>newbalanceDest</th>\n",
       "      <th>isFraud</th>\n",
       "      <th>isFlaggedFraud</th>\n",
       "    </tr>\n",
       "  </thead>\n",
       "  <tbody>\n",
       "    <tr>\n",
       "      <th>0</th>\n",
       "      <td>0</td>\n",
       "      <td>1</td>\n",
       "      <td>PAYMENT</td>\n",
       "      <td>9839.64</td>\n",
       "      <td>C1231006815</td>\n",
       "      <td>170136.0</td>\n",
       "      <td>160296.36</td>\n",
       "      <td>M1979787155</td>\n",
       "      <td>0.0</td>\n",
       "      <td>0.0</td>\n",
       "      <td>0</td>\n",
       "      <td>0</td>\n",
       "    </tr>\n",
       "    <tr>\n",
       "      <th>1</th>\n",
       "      <td>1</td>\n",
       "      <td>1</td>\n",
       "      <td>PAYMENT</td>\n",
       "      <td>1864.28</td>\n",
       "      <td>C1666544295</td>\n",
       "      <td>21249.0</td>\n",
       "      <td>19384.72</td>\n",
       "      <td>M2044282225</td>\n",
       "      <td>0.0</td>\n",
       "      <td>0.0</td>\n",
       "      <td>0</td>\n",
       "      <td>0</td>\n",
       "    </tr>\n",
       "    <tr>\n",
       "      <th>2</th>\n",
       "      <td>2</td>\n",
       "      <td>1</td>\n",
       "      <td>TRANSFER</td>\n",
       "      <td>181.00</td>\n",
       "      <td>C1305486145</td>\n",
       "      <td>181.0</td>\n",
       "      <td>0.00</td>\n",
       "      <td>C553264065</td>\n",
       "      <td>0.0</td>\n",
       "      <td>0.0</td>\n",
       "      <td>1</td>\n",
       "      <td>0</td>\n",
       "    </tr>\n",
       "    <tr>\n",
       "      <th>3</th>\n",
       "      <td>3</td>\n",
       "      <td>1</td>\n",
       "      <td>CASH_OUT</td>\n",
       "      <td>181.00</td>\n",
       "      <td>C840083671</td>\n",
       "      <td>181.0</td>\n",
       "      <td>0.00</td>\n",
       "      <td>C38997010</td>\n",
       "      <td>21182.0</td>\n",
       "      <td>0.0</td>\n",
       "      <td>1</td>\n",
       "      <td>0</td>\n",
       "    </tr>\n",
       "    <tr>\n",
       "      <th>4</th>\n",
       "      <td>4</td>\n",
       "      <td>1</td>\n",
       "      <td>PAYMENT</td>\n",
       "      <td>11668.14</td>\n",
       "      <td>C2048537720</td>\n",
       "      <td>41554.0</td>\n",
       "      <td>29885.86</td>\n",
       "      <td>M1230701703</td>\n",
       "      <td>0.0</td>\n",
       "      <td>0.0</td>\n",
       "      <td>0</td>\n",
       "      <td>0</td>\n",
       "    </tr>\n",
       "  </tbody>\n",
       "</table>\n",
       "</div>"
      ],
      "text/plain": [
       "   original_index  step      type    amount     nameOrig  oldbalanceOrg  \\\n",
       "0               0     1   PAYMENT   9839.64  C1231006815       170136.0   \n",
       "1               1     1   PAYMENT   1864.28  C1666544295        21249.0   \n",
       "2               2     1  TRANSFER    181.00  C1305486145          181.0   \n",
       "3               3     1  CASH_OUT    181.00   C840083671          181.0   \n",
       "4               4     1   PAYMENT  11668.14  C2048537720        41554.0   \n",
       "\n",
       "   newbalanceOrig     nameDest  oldbalanceDest  newbalanceDest  isFraud  \\\n",
       "0       160296.36  M1979787155             0.0             0.0        0   \n",
       "1        19384.72  M2044282225             0.0             0.0        0   \n",
       "2            0.00   C553264065             0.0             0.0        1   \n",
       "3            0.00    C38997010         21182.0             0.0        1   \n",
       "4        29885.86  M1230701703             0.0             0.0        0   \n",
       "\n",
       "   isFlaggedFraud  \n",
       "0               0  \n",
       "1               0  \n",
       "2               0  \n",
       "3               0  \n",
       "4               0  "
      ]
     },
     "execution_count": 8,
     "metadata": {},
     "output_type": "execute_result"
    }
   ],
   "source": [
    "full_df = full_df.reset_index(names='original_index') # preserve original index for temporality\n",
    "full_df.head()"
   ]
  },
  {
   "cell_type": "code",
   "execution_count": 9,
   "id": "2def8306",
   "metadata": {},
   "outputs": [
    {
     "name": "stdout",
     "output_type": "stream",
     "text": [
      "<class 'pandas.core.frame.DataFrame'>\n",
      "Index: 8213 entries, 2 to 6362619\n",
      "Data columns (total 12 columns):\n",
      " #   Column          Non-Null Count  Dtype  \n",
      "---  ------          --------------  -----  \n",
      " 0   original_index  8213 non-null   int64  \n",
      " 1   step            8213 non-null   int64  \n",
      " 2   type            8213 non-null   object \n",
      " 3   amount          8213 non-null   float64\n",
      " 4   nameOrig        8213 non-null   object \n",
      " 5   oldbalanceOrg   8213 non-null   float64\n",
      " 6   newbalanceOrig  8213 non-null   float64\n",
      " 7   nameDest        8213 non-null   object \n",
      " 8   oldbalanceDest  8213 non-null   float64\n",
      " 9   newbalanceDest  8213 non-null   float64\n",
      " 10  isFraud         8213 non-null   int64  \n",
      " 11  isFlaggedFraud  8213 non-null   int64  \n",
      "dtypes: float64(5), int64(4), object(3)\n",
      "memory usage: 834.1+ KB\n",
      "None\n"
     ]
    },
    {
     "data": {
      "text/html": [
       "<div>\n",
       "<style scoped>\n",
       "    .dataframe tbody tr th:only-of-type {\n",
       "        vertical-align: middle;\n",
       "    }\n",
       "\n",
       "    .dataframe tbody tr th {\n",
       "        vertical-align: top;\n",
       "    }\n",
       "\n",
       "    .dataframe thead th {\n",
       "        text-align: right;\n",
       "    }\n",
       "</style>\n",
       "<table border=\"1\" class=\"dataframe\">\n",
       "  <thead>\n",
       "    <tr style=\"text-align: right;\">\n",
       "      <th></th>\n",
       "      <th>original_index</th>\n",
       "      <th>step</th>\n",
       "      <th>type</th>\n",
       "      <th>amount</th>\n",
       "      <th>nameOrig</th>\n",
       "      <th>oldbalanceOrg</th>\n",
       "      <th>newbalanceOrig</th>\n",
       "      <th>nameDest</th>\n",
       "      <th>oldbalanceDest</th>\n",
       "      <th>newbalanceDest</th>\n",
       "      <th>isFraud</th>\n",
       "      <th>isFlaggedFraud</th>\n",
       "    </tr>\n",
       "  </thead>\n",
       "  <tbody>\n",
       "    <tr>\n",
       "      <th>2</th>\n",
       "      <td>2</td>\n",
       "      <td>1</td>\n",
       "      <td>TRANSFER</td>\n",
       "      <td>181.0</td>\n",
       "      <td>C1305486145</td>\n",
       "      <td>181.0</td>\n",
       "      <td>0.0</td>\n",
       "      <td>C553264065</td>\n",
       "      <td>0.0</td>\n",
       "      <td>0.0</td>\n",
       "      <td>1</td>\n",
       "      <td>0</td>\n",
       "    </tr>\n",
       "    <tr>\n",
       "      <th>3</th>\n",
       "      <td>3</td>\n",
       "      <td>1</td>\n",
       "      <td>CASH_OUT</td>\n",
       "      <td>181.0</td>\n",
       "      <td>C840083671</td>\n",
       "      <td>181.0</td>\n",
       "      <td>0.0</td>\n",
       "      <td>C38997010</td>\n",
       "      <td>21182.0</td>\n",
       "      <td>0.0</td>\n",
       "      <td>1</td>\n",
       "      <td>0</td>\n",
       "    </tr>\n",
       "    <tr>\n",
       "      <th>251</th>\n",
       "      <td>251</td>\n",
       "      <td>1</td>\n",
       "      <td>TRANSFER</td>\n",
       "      <td>2806.0</td>\n",
       "      <td>C1420196421</td>\n",
       "      <td>2806.0</td>\n",
       "      <td>0.0</td>\n",
       "      <td>C972765878</td>\n",
       "      <td>0.0</td>\n",
       "      <td>0.0</td>\n",
       "      <td>1</td>\n",
       "      <td>0</td>\n",
       "    </tr>\n",
       "    <tr>\n",
       "      <th>252</th>\n",
       "      <td>252</td>\n",
       "      <td>1</td>\n",
       "      <td>CASH_OUT</td>\n",
       "      <td>2806.0</td>\n",
       "      <td>C2101527076</td>\n",
       "      <td>2806.0</td>\n",
       "      <td>0.0</td>\n",
       "      <td>C1007251739</td>\n",
       "      <td>26202.0</td>\n",
       "      <td>0.0</td>\n",
       "      <td>1</td>\n",
       "      <td>0</td>\n",
       "    </tr>\n",
       "    <tr>\n",
       "      <th>680</th>\n",
       "      <td>680</td>\n",
       "      <td>1</td>\n",
       "      <td>TRANSFER</td>\n",
       "      <td>20128.0</td>\n",
       "      <td>C137533655</td>\n",
       "      <td>20128.0</td>\n",
       "      <td>0.0</td>\n",
       "      <td>C1848415041</td>\n",
       "      <td>0.0</td>\n",
       "      <td>0.0</td>\n",
       "      <td>1</td>\n",
       "      <td>0</td>\n",
       "    </tr>\n",
       "  </tbody>\n",
       "</table>\n",
       "</div>"
      ],
      "text/plain": [
       "     original_index  step      type   amount     nameOrig  oldbalanceOrg  \\\n",
       "2                 2     1  TRANSFER    181.0  C1305486145          181.0   \n",
       "3                 3     1  CASH_OUT    181.0   C840083671          181.0   \n",
       "251             251     1  TRANSFER   2806.0  C1420196421         2806.0   \n",
       "252             252     1  CASH_OUT   2806.0  C2101527076         2806.0   \n",
       "680             680     1  TRANSFER  20128.0   C137533655        20128.0   \n",
       "\n",
       "     newbalanceOrig     nameDest  oldbalanceDest  newbalanceDest  isFraud  \\\n",
       "2               0.0   C553264065             0.0             0.0        1   \n",
       "3               0.0    C38997010         21182.0             0.0        1   \n",
       "251             0.0   C972765878             0.0             0.0        1   \n",
       "252             0.0  C1007251739         26202.0             0.0        1   \n",
       "680             0.0  C1848415041             0.0             0.0        1   \n",
       "\n",
       "     isFlaggedFraud  \n",
       "2                 0  \n",
       "3                 0  \n",
       "251               0  \n",
       "252               0  \n",
       "680               0  "
      ]
     },
     "execution_count": 9,
     "metadata": {},
     "output_type": "execute_result"
    }
   ],
   "source": [
    "# select all fraud cases\n",
    "fraud_df = full_df[full_df['isFraud']==1]\n",
    "print(fraud_df.info())\n",
    "fraud_df.head()"
   ]
  },
  {
   "cell_type": "code",
   "execution_count": 10,
   "id": "06b41e55",
   "metadata": {},
   "outputs": [
    {
     "name": "stdout",
     "output_type": "stream",
     "text": [
      "<class 'pandas.core.frame.DataFrame'>\n",
      "Index: 91786 entries, 1795 to 6362128\n",
      "Data columns (total 12 columns):\n",
      " #   Column          Non-Null Count  Dtype  \n",
      "---  ------          --------------  -----  \n",
      " 0   original_index  91786 non-null  int64  \n",
      " 1   step            91786 non-null  int64  \n",
      " 2   type            91786 non-null  object \n",
      " 3   amount          91786 non-null  float64\n",
      " 4   nameOrig        91786 non-null  object \n",
      " 5   oldbalanceOrg   91786 non-null  float64\n",
      " 6   newbalanceOrig  91786 non-null  float64\n",
      " 7   nameDest        91786 non-null  object \n",
      " 8   oldbalanceDest  91786 non-null  float64\n",
      " 9   newbalanceDest  91786 non-null  float64\n",
      " 10  isFraud         91786 non-null  int64  \n",
      " 11  isFlaggedFraud  91786 non-null  int64  \n",
      "dtypes: float64(5), int64(4), object(3)\n",
      "memory usage: 9.1+ MB\n",
      "None\n"
     ]
    },
    {
     "data": {
      "text/html": [
       "<div>\n",
       "<style scoped>\n",
       "    .dataframe tbody tr th:only-of-type {\n",
       "        vertical-align: middle;\n",
       "    }\n",
       "\n",
       "    .dataframe tbody tr th {\n",
       "        vertical-align: top;\n",
       "    }\n",
       "\n",
       "    .dataframe thead th {\n",
       "        text-align: right;\n",
       "    }\n",
       "</style>\n",
       "<table border=\"1\" class=\"dataframe\">\n",
       "  <thead>\n",
       "    <tr style=\"text-align: right;\">\n",
       "      <th></th>\n",
       "      <th>original_index</th>\n",
       "      <th>step</th>\n",
       "      <th>type</th>\n",
       "      <th>amount</th>\n",
       "      <th>nameOrig</th>\n",
       "      <th>oldbalanceOrg</th>\n",
       "      <th>newbalanceOrig</th>\n",
       "      <th>nameDest</th>\n",
       "      <th>oldbalanceDest</th>\n",
       "      <th>newbalanceDest</th>\n",
       "      <th>isFraud</th>\n",
       "      <th>isFlaggedFraud</th>\n",
       "    </tr>\n",
       "  </thead>\n",
       "  <tbody>\n",
       "    <tr>\n",
       "      <th>1795</th>\n",
       "      <td>1795</td>\n",
       "      <td>1</td>\n",
       "      <td>PAYMENT</td>\n",
       "      <td>353.90</td>\n",
       "      <td>C1746117425</td>\n",
       "      <td>3.00</td>\n",
       "      <td>0.00</td>\n",
       "      <td>M467146800</td>\n",
       "      <td>0.00</td>\n",
       "      <td>0.00</td>\n",
       "      <td>0</td>\n",
       "      <td>0</td>\n",
       "    </tr>\n",
       "    <tr>\n",
       "      <th>2233</th>\n",
       "      <td>2233</td>\n",
       "      <td>1</td>\n",
       "      <td>CASH_OUT</td>\n",
       "      <td>159657.10</td>\n",
       "      <td>C1366629983</td>\n",
       "      <td>0.00</td>\n",
       "      <td>0.00</td>\n",
       "      <td>C716083600</td>\n",
       "      <td>2640580.83</td>\n",
       "      <td>2444985.19</td>\n",
       "      <td>0</td>\n",
       "      <td>0</td>\n",
       "    </tr>\n",
       "    <tr>\n",
       "      <th>372</th>\n",
       "      <td>372</td>\n",
       "      <td>1</td>\n",
       "      <td>TRANSFER</td>\n",
       "      <td>438437.09</td>\n",
       "      <td>C977160959</td>\n",
       "      <td>0.00</td>\n",
       "      <td>0.00</td>\n",
       "      <td>C248609774</td>\n",
       "      <td>740675.45</td>\n",
       "      <td>6453430.91</td>\n",
       "      <td>0</td>\n",
       "      <td>0</td>\n",
       "    </tr>\n",
       "    <tr>\n",
       "      <th>539</th>\n",
       "      <td>539</td>\n",
       "      <td>1</td>\n",
       "      <td>PAYMENT</td>\n",
       "      <td>207.75</td>\n",
       "      <td>C1288108586</td>\n",
       "      <td>82149.35</td>\n",
       "      <td>81941.60</td>\n",
       "      <td>M1089584667</td>\n",
       "      <td>0.00</td>\n",
       "      <td>0.00</td>\n",
       "      <td>0</td>\n",
       "      <td>0</td>\n",
       "    </tr>\n",
       "    <tr>\n",
       "      <th>2440</th>\n",
       "      <td>2440</td>\n",
       "      <td>1</td>\n",
       "      <td>PAYMENT</td>\n",
       "      <td>11380.13</td>\n",
       "      <td>C1905114489</td>\n",
       "      <td>77037.91</td>\n",
       "      <td>65657.79</td>\n",
       "      <td>M538132628</td>\n",
       "      <td>0.00</td>\n",
       "      <td>0.00</td>\n",
       "      <td>0</td>\n",
       "      <td>0</td>\n",
       "    </tr>\n",
       "  </tbody>\n",
       "</table>\n",
       "</div>"
      ],
      "text/plain": [
       "      original_index  step      type     amount     nameOrig  oldbalanceOrg  \\\n",
       "1795            1795     1   PAYMENT     353.90  C1746117425           3.00   \n",
       "2233            2233     1  CASH_OUT  159657.10  C1366629983           0.00   \n",
       "372              372     1  TRANSFER  438437.09   C977160959           0.00   \n",
       "539              539     1   PAYMENT     207.75  C1288108586       82149.35   \n",
       "2440            2440     1   PAYMENT   11380.13  C1905114489       77037.91   \n",
       "\n",
       "      newbalanceOrig     nameDest  oldbalanceDest  newbalanceDest  isFraud  \\\n",
       "1795            0.00   M467146800            0.00            0.00        0   \n",
       "2233            0.00   C716083600      2640580.83      2444985.19        0   \n",
       "372             0.00   C248609774       740675.45      6453430.91        0   \n",
       "539         81941.60  M1089584667            0.00            0.00        0   \n",
       "2440        65657.79   M538132628            0.00            0.00        0   \n",
       "\n",
       "      isFlaggedFraud  \n",
       "1795               0  \n",
       "2233               0  \n",
       "372                0  \n",
       "539                0  \n",
       "2440               0  "
      ]
     },
     "execution_count": 10,
     "metadata": {},
     "output_type": "execute_result"
    }
   ],
   "source": [
    "# select non-fraud cases to make up 100,000 records\n",
    "count_req_non_fraud = 100000 - len(fraud_df) # number of fraud cases required to make up 100000 total cases\n",
    "count_total_non_fraud = len(full_df) - len(fraud_df) # total number of fraud cases in dataset\n",
    "non_fraud_ratio = count_req_non_fraud / count_total_non_fraud # fraction of required to total,  to ensure proportional subseting\n",
    "\n",
    "nonfraud_df = full_df[full_df['isFraud']==0].groupby('step').sample(frac=non_fraud_ratio, random_state=42)\n",
    "print(nonfraud_df.info())\n",
    "nonfraud_df.head()"
   ]
  },
  {
   "cell_type": "code",
   "execution_count": 12,
   "id": "8d958bbc",
   "metadata": {},
   "outputs": [
    {
     "name": "stdout",
     "output_type": "stream",
     "text": [
      "<class 'pandas.core.frame.DataFrame'>\n",
      "RangeIndex: 99999 entries, 0 to 99998\n",
      "Data columns (total 11 columns):\n",
      " #   Column          Non-Null Count  Dtype  \n",
      "---  ------          --------------  -----  \n",
      " 0   step            99999 non-null  int64  \n",
      " 1   type            99999 non-null  object \n",
      " 2   amount          99999 non-null  float64\n",
      " 3   nameOrig        99999 non-null  object \n",
      " 4   oldbalanceOrg   99999 non-null  float64\n",
      " 5   newbalanceOrig  99999 non-null  float64\n",
      " 6   nameDest        99999 non-null  object \n",
      " 7   oldbalanceDest  99999 non-null  float64\n",
      " 8   newbalanceDest  99999 non-null  float64\n",
      " 9   isFraud         99999 non-null  int64  \n",
      " 10  isFlaggedFraud  99999 non-null  int64  \n",
      "dtypes: float64(5), int64(3), object(3)\n",
      "memory usage: 8.4+ MB\n",
      "None\n"
     ]
    },
    {
     "data": {
      "text/html": [
       "<div>\n",
       "<style scoped>\n",
       "    .dataframe tbody tr th:only-of-type {\n",
       "        vertical-align: middle;\n",
       "    }\n",
       "\n",
       "    .dataframe tbody tr th {\n",
       "        vertical-align: top;\n",
       "    }\n",
       "\n",
       "    .dataframe thead th {\n",
       "        text-align: right;\n",
       "    }\n",
       "</style>\n",
       "<table border=\"1\" class=\"dataframe\">\n",
       "  <thead>\n",
       "    <tr style=\"text-align: right;\">\n",
       "      <th></th>\n",
       "      <th>step</th>\n",
       "      <th>type</th>\n",
       "      <th>amount</th>\n",
       "      <th>nameOrig</th>\n",
       "      <th>oldbalanceOrg</th>\n",
       "      <th>newbalanceOrig</th>\n",
       "      <th>nameDest</th>\n",
       "      <th>oldbalanceDest</th>\n",
       "      <th>newbalanceDest</th>\n",
       "      <th>isFraud</th>\n",
       "      <th>isFlaggedFraud</th>\n",
       "    </tr>\n",
       "  </thead>\n",
       "  <tbody>\n",
       "    <tr>\n",
       "      <th>0</th>\n",
       "      <td>1</td>\n",
       "      <td>TRANSFER</td>\n",
       "      <td>181.00</td>\n",
       "      <td>C1305486145</td>\n",
       "      <td>181.0</td>\n",
       "      <td>0.0</td>\n",
       "      <td>C553264065</td>\n",
       "      <td>0.00</td>\n",
       "      <td>0.00</td>\n",
       "      <td>1</td>\n",
       "      <td>0</td>\n",
       "    </tr>\n",
       "    <tr>\n",
       "      <th>1</th>\n",
       "      <td>1</td>\n",
       "      <td>CASH_OUT</td>\n",
       "      <td>181.00</td>\n",
       "      <td>C840083671</td>\n",
       "      <td>181.0</td>\n",
       "      <td>0.0</td>\n",
       "      <td>C38997010</td>\n",
       "      <td>21182.00</td>\n",
       "      <td>0.00</td>\n",
       "      <td>1</td>\n",
       "      <td>0</td>\n",
       "    </tr>\n",
       "    <tr>\n",
       "      <th>2</th>\n",
       "      <td>1</td>\n",
       "      <td>TRANSFER</td>\n",
       "      <td>710544.77</td>\n",
       "      <td>C835773569</td>\n",
       "      <td>0.0</td>\n",
       "      <td>0.0</td>\n",
       "      <td>C1359044626</td>\n",
       "      <td>738531.50</td>\n",
       "      <td>16518.36</td>\n",
       "      <td>0</td>\n",
       "      <td>0</td>\n",
       "    </tr>\n",
       "    <tr>\n",
       "      <th>3</th>\n",
       "      <td>1</td>\n",
       "      <td>CASH_OUT</td>\n",
       "      <td>220691.42</td>\n",
       "      <td>C1123559518</td>\n",
       "      <td>0.0</td>\n",
       "      <td>0.0</td>\n",
       "      <td>C1590550415</td>\n",
       "      <td>6093090.62</td>\n",
       "      <td>19169204.93</td>\n",
       "      <td>0</td>\n",
       "      <td>0</td>\n",
       "    </tr>\n",
       "    <tr>\n",
       "      <th>4</th>\n",
       "      <td>1</td>\n",
       "      <td>TRANSFER</td>\n",
       "      <td>2806.00</td>\n",
       "      <td>C1420196421</td>\n",
       "      <td>2806.0</td>\n",
       "      <td>0.0</td>\n",
       "      <td>C972765878</td>\n",
       "      <td>0.00</td>\n",
       "      <td>0.00</td>\n",
       "      <td>1</td>\n",
       "      <td>0</td>\n",
       "    </tr>\n",
       "  </tbody>\n",
       "</table>\n",
       "</div>"
      ],
      "text/plain": [
       "   step      type     amount     nameOrig  oldbalanceOrg  newbalanceOrig  \\\n",
       "0     1  TRANSFER     181.00  C1305486145          181.0             0.0   \n",
       "1     1  CASH_OUT     181.00   C840083671          181.0             0.0   \n",
       "2     1  TRANSFER  710544.77   C835773569            0.0             0.0   \n",
       "3     1  CASH_OUT  220691.42  C1123559518            0.0             0.0   \n",
       "4     1  TRANSFER    2806.00  C1420196421         2806.0             0.0   \n",
       "\n",
       "      nameDest  oldbalanceDest  newbalanceDest  isFraud  isFlaggedFraud  \n",
       "0   C553264065            0.00            0.00        1               0  \n",
       "1    C38997010        21182.00            0.00        1               0  \n",
       "2  C1359044626       738531.50        16518.36        0               0  \n",
       "3  C1590550415      6093090.62     19169204.93        0               0  \n",
       "4   C972765878            0.00            0.00        1               0  "
      ]
     },
     "execution_count": 12,
     "metadata": {},
     "output_type": "execute_result"
    }
   ],
   "source": [
    "subsample_df = pd.concat([fraud_df, nonfraud_df], ignore_index=True)\n",
    "# sort transactions by original index\n",
    "subsample_df = subsample_df.sort_values(by='original_index').reset_index(drop=True)\n",
    "# drop the original index\n",
    "subsample_df.drop(columns=[\"original_index\"], inplace=True)\n",
    "print(subsample_df.info())\n",
    "subsample_df.head()"
   ]
  },
  {
   "cell_type": "code",
   "execution_count": 13,
   "id": "43a993a9",
   "metadata": {},
   "outputs": [
    {
     "name": "stdout",
     "output_type": "stream",
     "text": [
      "Subsample Dataset: 99999 rows\n",
      "_________Composed Of_________\n",
      "8213 Fraud Cases\n",
      "91786 Non-Fraud Cases\n",
      "Fraud Rate: 0.0821\n"
     ]
    }
   ],
   "source": [
    "print(f\"Subsample Dataset: {len(subsample_df)} rows\")\n",
    "print(\"_________Composed Of_________\")\n",
    "print(f\"{len(subsample_df.query('isFraud==1'))} Fraud Cases\")\n",
    "print(f\"{len(subsample_df.query('isFraud==0'))} Non-Fraud Cases\")\n",
    "print(f\"Fraud Rate: {subsample_df['isFraud'].mean():.4f}\")"
   ]
  },
  {
   "cell_type": "markdown",
   "id": "5ac77c8e",
   "metadata": {},
   "source": [
    "99,999 cases have been retrieved (rather than an exact 100,000) due to proportional subsampling."
   ]
  },
  {
   "cell_type": "code",
   "execution_count": 15,
   "id": "d92d574c",
   "metadata": {},
   "outputs": [],
   "source": [
    "# save the subset data\n",
    "subsample_path = \"data/processed/paysim_subsample.csv\"\n",
    "subsample_df.to_csv(subsample_path, index=False)"
   ]
  },
  {
   "cell_type": "markdown",
   "id": "0d589caf",
   "metadata": {},
   "source": [
    "# 2. Preprocess Data\n",
    "\n",
    "Process Data into format needed for model training and other subsequent manipulation"
   ]
  },
  {
   "cell_type": "markdown",
   "id": "3d7b3b45",
   "metadata": {},
   "source": [
    "## 2.1 Load Subsampled Dataset\n",
    "Load and inspect susbsampled dataset"
   ]
  },
  {
   "cell_type": "code",
   "execution_count": 136,
   "id": "da1eb7c5",
   "metadata": {},
   "outputs": [
    {
     "name": "stdout",
     "output_type": "stream",
     "text": [
      "<class 'pandas.core.frame.DataFrame'>\n",
      "RangeIndex: 99999 entries, 0 to 99998\n",
      "Data columns (total 11 columns):\n",
      " #   Column          Non-Null Count  Dtype  \n",
      "---  ------          --------------  -----  \n",
      " 0   step            99999 non-null  int64  \n",
      " 1   type            99999 non-null  object \n",
      " 2   amount          99999 non-null  float64\n",
      " 3   nameOrig        99999 non-null  object \n",
      " 4   oldbalanceOrg   99999 non-null  float64\n",
      " 5   newbalanceOrig  99999 non-null  float64\n",
      " 6   nameDest        99999 non-null  object \n",
      " 7   oldbalanceDest  99999 non-null  float64\n",
      " 8   newbalanceDest  99999 non-null  float64\n",
      " 9   isFraud         99999 non-null  int64  \n",
      " 10  isFlaggedFraud  99999 non-null  int64  \n",
      "dtypes: float64(5), int64(3), object(3)\n",
      "memory usage: 8.4+ MB\n",
      "None\n"
     ]
    },
    {
     "data": {
      "text/html": [
       "<div>\n",
       "<style scoped>\n",
       "    .dataframe tbody tr th:only-of-type {\n",
       "        vertical-align: middle;\n",
       "    }\n",
       "\n",
       "    .dataframe tbody tr th {\n",
       "        vertical-align: top;\n",
       "    }\n",
       "\n",
       "    .dataframe thead th {\n",
       "        text-align: right;\n",
       "    }\n",
       "</style>\n",
       "<table border=\"1\" class=\"dataframe\">\n",
       "  <thead>\n",
       "    <tr style=\"text-align: right;\">\n",
       "      <th></th>\n",
       "      <th>step</th>\n",
       "      <th>type</th>\n",
       "      <th>amount</th>\n",
       "      <th>nameOrig</th>\n",
       "      <th>oldbalanceOrg</th>\n",
       "      <th>newbalanceOrig</th>\n",
       "      <th>nameDest</th>\n",
       "      <th>oldbalanceDest</th>\n",
       "      <th>newbalanceDest</th>\n",
       "      <th>isFraud</th>\n",
       "      <th>isFlaggedFraud</th>\n",
       "    </tr>\n",
       "  </thead>\n",
       "  <tbody>\n",
       "    <tr>\n",
       "      <th>0</th>\n",
       "      <td>1</td>\n",
       "      <td>TRANSFER</td>\n",
       "      <td>181.00</td>\n",
       "      <td>C1305486145</td>\n",
       "      <td>181.0</td>\n",
       "      <td>0.0</td>\n",
       "      <td>C553264065</td>\n",
       "      <td>0.00</td>\n",
       "      <td>0.00</td>\n",
       "      <td>1</td>\n",
       "      <td>0</td>\n",
       "    </tr>\n",
       "    <tr>\n",
       "      <th>1</th>\n",
       "      <td>1</td>\n",
       "      <td>CASH_OUT</td>\n",
       "      <td>181.00</td>\n",
       "      <td>C840083671</td>\n",
       "      <td>181.0</td>\n",
       "      <td>0.0</td>\n",
       "      <td>C38997010</td>\n",
       "      <td>21182.00</td>\n",
       "      <td>0.00</td>\n",
       "      <td>1</td>\n",
       "      <td>0</td>\n",
       "    </tr>\n",
       "    <tr>\n",
       "      <th>2</th>\n",
       "      <td>1</td>\n",
       "      <td>TRANSFER</td>\n",
       "      <td>710544.77</td>\n",
       "      <td>C835773569</td>\n",
       "      <td>0.0</td>\n",
       "      <td>0.0</td>\n",
       "      <td>C1359044626</td>\n",
       "      <td>738531.50</td>\n",
       "      <td>16518.36</td>\n",
       "      <td>0</td>\n",
       "      <td>0</td>\n",
       "    </tr>\n",
       "    <tr>\n",
       "      <th>3</th>\n",
       "      <td>1</td>\n",
       "      <td>CASH_OUT</td>\n",
       "      <td>220691.42</td>\n",
       "      <td>C1123559518</td>\n",
       "      <td>0.0</td>\n",
       "      <td>0.0</td>\n",
       "      <td>C1590550415</td>\n",
       "      <td>6093090.62</td>\n",
       "      <td>19169204.93</td>\n",
       "      <td>0</td>\n",
       "      <td>0</td>\n",
       "    </tr>\n",
       "    <tr>\n",
       "      <th>4</th>\n",
       "      <td>1</td>\n",
       "      <td>TRANSFER</td>\n",
       "      <td>2806.00</td>\n",
       "      <td>C1420196421</td>\n",
       "      <td>2806.0</td>\n",
       "      <td>0.0</td>\n",
       "      <td>C972765878</td>\n",
       "      <td>0.00</td>\n",
       "      <td>0.00</td>\n",
       "      <td>1</td>\n",
       "      <td>0</td>\n",
       "    </tr>\n",
       "  </tbody>\n",
       "</table>\n",
       "</div>"
      ],
      "text/plain": [
       "   step      type     amount     nameOrig  oldbalanceOrg  newbalanceOrig  \\\n",
       "0     1  TRANSFER     181.00  C1305486145          181.0             0.0   \n",
       "1     1  CASH_OUT     181.00   C840083671          181.0             0.0   \n",
       "2     1  TRANSFER  710544.77   C835773569            0.0             0.0   \n",
       "3     1  CASH_OUT  220691.42  C1123559518            0.0             0.0   \n",
       "4     1  TRANSFER    2806.00  C1420196421         2806.0             0.0   \n",
       "\n",
       "      nameDest  oldbalanceDest  newbalanceDest  isFraud  isFlaggedFraud  \n",
       "0   C553264065            0.00            0.00        1               0  \n",
       "1    C38997010        21182.00            0.00        1               0  \n",
       "2  C1359044626       738531.50        16518.36        0               0  \n",
       "3  C1590550415      6093090.62     19169204.93        0               0  \n",
       "4   C972765878            0.00            0.00        1               0  "
      ]
     },
     "execution_count": 136,
     "metadata": {},
     "output_type": "execute_result"
    }
   ],
   "source": [
    "df = pd.read_csv(\"data/processed/paysim_subsample.csv\")\n",
    "print(df.info())\n",
    "df.head()"
   ]
  },
  {
   "cell_type": "markdown",
   "id": "df6b20d0",
   "metadata": {},
   "source": [
    "Inspect data"
   ]
  },
  {
   "cell_type": "code",
   "execution_count": 137,
   "id": "303583cc",
   "metadata": {},
   "outputs": [
    {
     "name": "stdout",
     "output_type": "stream",
     "text": [
      "Unique value counts\n",
      "step - 743\n",
      "type - 5\n",
      "amount - 95430\n",
      "nameOrig - 99995\n",
      "oldbalanceOrg - 54174\n",
      "newbalanceOrig - 39810\n",
      "nameDest - 93093\n",
      "oldbalanceDest - 55496\n",
      "newbalanceDest - 60388\n",
      "isFraud - 2\n",
      "isFlaggedFraud - 2\n"
     ]
    }
   ],
   "source": [
    "print(\"Unique value counts\")\n",
    "for col in df.columns:\n",
    "    print(f\"{col} - {df[col].nunique()}\")"
   ]
  },
  {
   "cell_type": "markdown",
   "id": "538034d5",
   "metadata": {},
   "source": [
    "## 2.2. Feature Engineering and Selection\n",
    "\n",
    "Select features, excluding:\n",
    "- high cardinality data: nameOrig, nameDest\n",
    "- others: isFlaggedFraud. This is only a baseline system and will only be used as to derive baseline metrics for the system being built."
   ]
  },
  {
   "cell_type": "code",
   "execution_count": 138,
   "id": "6a2b2889",
   "metadata": {},
   "outputs": [],
   "source": [
    "# list out features to select. step is excluded here because it will be used to engineer a new feature\n",
    "features = ['amount', 'oldbalanceOrg', 'newbalanceOrig', 'oldbalanceDest', 'newbalanceDest']\n",
    "X = df[features]\n",
    "y = df['isFraud']"
   ]
  },
  {
   "cell_type": "code",
   "execution_count": 139,
   "id": "867eeedf",
   "metadata": {},
   "outputs": [
    {
     "name": "stderr",
     "output_type": "stream",
     "text": [
      "/tmp/ipykernel_5247/3184513781.py:5: SettingWithCopyWarning: \n",
      "A value is trying to be set on a copy of a slice from a DataFrame.\n",
      "Try using .loc[row_indexer,col_indexer] = value instead\n",
      "\n",
      "See the caveats in the documentation: https://pandas.pydata.org/pandas-docs/stable/user_guide/indexing.html#returning-a-view-versus-a-copy\n",
      "  X['hour'] = df['hour']\n"
     ]
    }
   ],
   "source": [
    "# Engineer time feature from step (step represents time units in hours). Results in 0-23hrs for each day\n",
    "df['hour'] = (df['step'] % 24).astype(int)\n",
    "\n",
    "# add it into the feature set\n",
    "X['hour'] = df['hour']\n",
    "\n",
    "# add hour to the list of features\n",
    "features.append('hour')"
   ]
  },
  {
   "cell_type": "code",
   "execution_count": 140,
   "id": "231b060e",
   "metadata": {},
   "outputs": [],
   "source": [
    "# preserve the amount unscaled for use in cost evaluation\n",
    "unscaled_amount = df['amount'].copy()"
   ]
  },
  {
   "cell_type": "code",
   "execution_count": 141,
   "id": "bf97578e",
   "metadata": {},
   "outputs": [],
   "source": [
    "# normalize features\n",
    "# standard scaler normalizes data with mean = 0 and standard deviation = 1\n",
    "\n",
    "scaler = StandardScaler()\n",
    "X_scaled = scaler.fit_transform(X)\n",
    "X_scaled = pd.DataFrame(X_scaled, columns=X.columns)"
   ]
  },
  {
   "cell_type": "code",
   "execution_count": 142,
   "id": "59580c81",
   "metadata": {},
   "outputs": [
    {
     "data": {
      "text/html": [
       "<div>\n",
       "<style scoped>\n",
       "    .dataframe tbody tr th:only-of-type {\n",
       "        vertical-align: middle;\n",
       "    }\n",
       "\n",
       "    .dataframe tbody tr th {\n",
       "        vertical-align: top;\n",
       "    }\n",
       "\n",
       "    .dataframe thead th {\n",
       "        text-align: right;\n",
       "    }\n",
       "</style>\n",
       "<table border=\"1\" class=\"dataframe\">\n",
       "  <thead>\n",
       "    <tr style=\"text-align: right;\">\n",
       "      <th></th>\n",
       "      <th>amount</th>\n",
       "      <th>oldbalanceOrg</th>\n",
       "      <th>newbalanceOrig</th>\n",
       "      <th>oldbalanceDest</th>\n",
       "      <th>newbalanceDest</th>\n",
       "      <th>hour</th>\n",
       "    </tr>\n",
       "  </thead>\n",
       "  <tbody>\n",
       "    <tr>\n",
       "      <th>0</th>\n",
       "      <td>-0.300032</td>\n",
       "      <td>-0.304034</td>\n",
       "      <td>-0.279313</td>\n",
       "      <td>-0.327973</td>\n",
       "      <td>-0.351882</td>\n",
       "      <td>-2.984775</td>\n",
       "    </tr>\n",
       "    <tr>\n",
       "      <th>1</th>\n",
       "      <td>-0.300032</td>\n",
       "      <td>-0.304034</td>\n",
       "      <td>-0.279313</td>\n",
       "      <td>-0.321436</td>\n",
       "      <td>-0.351882</td>\n",
       "      <td>-2.984775</td>\n",
       "    </tr>\n",
       "    <tr>\n",
       "      <th>2</th>\n",
       "      <td>0.455659</td>\n",
       "      <td>-0.304096</td>\n",
       "      <td>-0.279313</td>\n",
       "      <td>-0.100077</td>\n",
       "      <td>-0.347180</td>\n",
       "      <td>-2.984775</td>\n",
       "    </tr>\n",
       "    <tr>\n",
       "      <th>3</th>\n",
       "      <td>-0.065451</td>\n",
       "      <td>-0.304096</td>\n",
       "      <td>-0.279313</td>\n",
       "      <td>1.552226</td>\n",
       "      <td>5.104851</td>\n",
       "      <td>-2.984775</td>\n",
       "    </tr>\n",
       "    <tr>\n",
       "      <th>4</th>\n",
       "      <td>-0.297239</td>\n",
       "      <td>-0.303135</td>\n",
       "      <td>-0.279313</td>\n",
       "      <td>-0.327973</td>\n",
       "      <td>-0.351882</td>\n",
       "      <td>-2.984775</td>\n",
       "    </tr>\n",
       "  </tbody>\n",
       "</table>\n",
       "</div>"
      ],
      "text/plain": [
       "     amount  oldbalanceOrg  newbalanceOrig  oldbalanceDest  newbalanceDest  \\\n",
       "0 -0.300032      -0.304034       -0.279313       -0.327973       -0.351882   \n",
       "1 -0.300032      -0.304034       -0.279313       -0.321436       -0.351882   \n",
       "2  0.455659      -0.304096       -0.279313       -0.100077       -0.347180   \n",
       "3 -0.065451      -0.304096       -0.279313        1.552226        5.104851   \n",
       "4 -0.297239      -0.303135       -0.279313       -0.327973       -0.351882   \n",
       "\n",
       "       hour  \n",
       "0 -2.984775  \n",
       "1 -2.984775  \n",
       "2 -2.984775  \n",
       "3 -2.984775  \n",
       "4 -2.984775  "
      ]
     },
     "execution_count": 142,
     "metadata": {},
     "output_type": "execute_result"
    }
   ],
   "source": [
    "X_scaled.head()"
   ]
  },
  {
   "cell_type": "code",
   "execution_count": 143,
   "id": "24e0d065",
   "metadata": {},
   "outputs": [
    {
     "data": {
      "text/plain": [
       "0    1\n",
       "1    1\n",
       "2    0\n",
       "3    0\n",
       "4    1\n",
       "Name: isFraud, dtype: int64"
      ]
     },
     "execution_count": 143,
     "metadata": {},
     "output_type": "execute_result"
    }
   ],
   "source": [
    "y.head()"
   ]
  },
  {
   "cell_type": "markdown",
   "id": "a9b668e4",
   "metadata": {},
   "source": [
    "## 2.3. Apply SMOTE for Oversampling\n",
    "\n",
    "- Cut the data into three time periods (necessary for simulating drift)\n",
    "- Apply SMOTE to each of the time periods separately (necessary to avoid synthetic data not specific to time period, and to avoid length mismatch)\n",
    "\n",
    "The scaler and SMOTE cannot handle string variables, hence the labels have to be added after applying both."
   ]
  },
  {
   "cell_type": "code",
   "execution_count": 144,
   "id": "33603e3c",
   "metadata": {},
   "outputs": [],
   "source": [
    "# Simulate Concept Drift: split data into three time periods\n",
    "df['time_period'] = pd.qcut(df['step'], q=3, labels=['early', 'mid', 'late'])\n",
    "\n",
    "# Initialize SMOTE (1:3 fraud-to-non-fraud), will be applied separately for each time period\n",
    "smote = SMOTE(random_state=42, sampling_strategy=0.3)\n",
    "periods = ['early', 'mid', 'late']\n",
    "\n",
    "# add unscaled amount to X_scaled before oversampling\n",
    "X_scaled['unscaled_amount'] = unscaled_amount\n",
    "features.append('unscaled_amount')\n",
    "\n",
    "X_bal_list, y_bal_list = [], []\n",
    "for period in periods:\n",
    "    mask = df['time_period'] == period\n",
    "    X_period = X_scaled[mask][features]\n",
    "    y_period = y[mask]\n",
    "\n",
    "    # apply SMOTE\n",
    "    X_bal, y_bal = smote.fit_resample(X_period, y_period)\n",
    "    X_bal['time_period'] = period\n",
    "\n",
    "    X_bal_list.append(X_bal)\n",
    "    y_bal_list.append(pd.Series(y_bal))\n",
    "\n",
    "X_balanced = pd.concat(X_bal_list, ignore_index=True)\n",
    "y_balanced = pd.concat(y_bal_list, ignore_index=True)"
   ]
  },
  {
   "cell_type": "code",
   "execution_count": 145,
   "id": "e288c444",
   "metadata": {},
   "outputs": [
    {
     "data": {
      "text/html": [
       "<div>\n",
       "<style scoped>\n",
       "    .dataframe tbody tr th:only-of-type {\n",
       "        vertical-align: middle;\n",
       "    }\n",
       "\n",
       "    .dataframe tbody tr th {\n",
       "        vertical-align: top;\n",
       "    }\n",
       "\n",
       "    .dataframe thead th {\n",
       "        text-align: right;\n",
       "    }\n",
       "</style>\n",
       "<table border=\"1\" class=\"dataframe\">\n",
       "  <thead>\n",
       "    <tr style=\"text-align: right;\">\n",
       "      <th></th>\n",
       "      <th>amount</th>\n",
       "      <th>oldbalanceOrg</th>\n",
       "      <th>newbalanceOrig</th>\n",
       "      <th>oldbalanceDest</th>\n",
       "      <th>newbalanceDest</th>\n",
       "      <th>hour</th>\n",
       "      <th>unscaled_amount</th>\n",
       "      <th>time_period</th>\n",
       "    </tr>\n",
       "  </thead>\n",
       "  <tbody>\n",
       "    <tr>\n",
       "      <th>0</th>\n",
       "      <td>-0.300032</td>\n",
       "      <td>-0.304034</td>\n",
       "      <td>-0.279313</td>\n",
       "      <td>-0.327973</td>\n",
       "      <td>-0.351882</td>\n",
       "      <td>-2.984775</td>\n",
       "      <td>181.00</td>\n",
       "      <td>early</td>\n",
       "    </tr>\n",
       "    <tr>\n",
       "      <th>1</th>\n",
       "      <td>-0.300032</td>\n",
       "      <td>-0.304034</td>\n",
       "      <td>-0.279313</td>\n",
       "      <td>-0.321436</td>\n",
       "      <td>-0.351882</td>\n",
       "      <td>-2.984775</td>\n",
       "      <td>181.00</td>\n",
       "      <td>early</td>\n",
       "    </tr>\n",
       "    <tr>\n",
       "      <th>2</th>\n",
       "      <td>0.455659</td>\n",
       "      <td>-0.304096</td>\n",
       "      <td>-0.279313</td>\n",
       "      <td>-0.100077</td>\n",
       "      <td>-0.347180</td>\n",
       "      <td>-2.984775</td>\n",
       "      <td>710544.77</td>\n",
       "      <td>early</td>\n",
       "    </tr>\n",
       "    <tr>\n",
       "      <th>3</th>\n",
       "      <td>-0.065451</td>\n",
       "      <td>-0.304096</td>\n",
       "      <td>-0.279313</td>\n",
       "      <td>1.552226</td>\n",
       "      <td>5.104851</td>\n",
       "      <td>-2.984775</td>\n",
       "      <td>220691.42</td>\n",
       "      <td>early</td>\n",
       "    </tr>\n",
       "    <tr>\n",
       "      <th>4</th>\n",
       "      <td>-0.297239</td>\n",
       "      <td>-0.303135</td>\n",
       "      <td>-0.279313</td>\n",
       "      <td>-0.327973</td>\n",
       "      <td>-0.351882</td>\n",
       "      <td>-2.984775</td>\n",
       "      <td>2806.00</td>\n",
       "      <td>early</td>\n",
       "    </tr>\n",
       "  </tbody>\n",
       "</table>\n",
       "</div>"
      ],
      "text/plain": [
       "     amount  oldbalanceOrg  newbalanceOrig  oldbalanceDest  newbalanceDest  \\\n",
       "0 -0.300032      -0.304034       -0.279313       -0.327973       -0.351882   \n",
       "1 -0.300032      -0.304034       -0.279313       -0.321436       -0.351882   \n",
       "2  0.455659      -0.304096       -0.279313       -0.100077       -0.347180   \n",
       "3 -0.065451      -0.304096       -0.279313        1.552226        5.104851   \n",
       "4 -0.297239      -0.303135       -0.279313       -0.327973       -0.351882   \n",
       "\n",
       "       hour  unscaled_amount time_period  \n",
       "0 -2.984775           181.00       early  \n",
       "1 -2.984775           181.00       early  \n",
       "2 -2.984775        710544.77       early  \n",
       "3 -2.984775        220691.42       early  \n",
       "4 -2.984775          2806.00       early  "
      ]
     },
     "execution_count": 145,
     "metadata": {},
     "output_type": "execute_result"
    }
   ],
   "source": [
    "X_balanced.head()"
   ]
  },
  {
   "cell_type": "code",
   "execution_count": 146,
   "id": "1dd99799",
   "metadata": {},
   "outputs": [
    {
     "data": {
      "text/plain": [
       "time_period\n",
       "mid      41601\n",
       "early    40653\n",
       "late     37066\n",
       "Name: count, dtype: int64"
      ]
     },
     "execution_count": 146,
     "metadata": {},
     "output_type": "execute_result"
    }
   ],
   "source": [
    "X_balanced.time_period.value_counts()"
   ]
  },
  {
   "cell_type": "code",
   "execution_count": 147,
   "id": "0073760f",
   "metadata": {},
   "outputs": [
    {
     "data": {
      "text/plain": [
       "0    1\n",
       "1    1\n",
       "2    0\n",
       "3    0\n",
       "4    1\n",
       "Name: isFraud, dtype: int64"
      ]
     },
     "execution_count": 147,
     "metadata": {},
     "output_type": "execute_result"
    }
   ],
   "source": [
    "y_balanced.head()"
   ]
  },
  {
   "cell_type": "code",
   "execution_count": 149,
   "id": "acc8d761",
   "metadata": {},
   "outputs": [
    {
     "name": "stdout",
     "output_type": "stream",
     "text": [
      "Post-SMOTE: 119320 rows, Fraud rate: 0.23075762655045257\n"
     ]
    }
   ],
   "source": [
    "print(f\"Post-SMOTE: {len(X_balanced)} rows, Fraud rate: {y_balanced.mean()}\")"
   ]
  },
  {
   "cell_type": "code",
   "execution_count": 150,
   "id": "c0c459ab",
   "metadata": {},
   "outputs": [
    {
     "data": {
      "text/plain": [
       "['models/scaler.pkl']"
      ]
     },
     "execution_count": 150,
     "metadata": {},
     "output_type": "execute_result"
    }
   ],
   "source": [
    "# save preprocessed X and y data, and save scaler model for reuse\n",
    "X_balanced.to_csv(\"data/processed/X_preprocessed.csv\", index=False)\n",
    "y_balanced.to_csv(\"data/processed/y_preprocessed.csv\", index=False)\n",
    "joblib.dump(scaler, \"models/scaler.pkl\")"
   ]
  },
  {
   "cell_type": "markdown",
   "id": "beed0553",
   "metadata": {},
   "source": [
    "# 3. Model Training\n",
    "- Get a baseline score\n",
    "- Train on early, mid and then late data to adapt model."
   ]
  },
  {
   "cell_type": "markdown",
   "id": "5601cbe1",
   "metadata": {},
   "source": [
    "## 3.1. Baseline Metrics\n",
    "From the flagging system\n",
    "\n",
    "### 3.1.1 Define Evaluation Function"
   ]
  },
  {
   "cell_type": "code",
   "execution_count": 151,
   "id": "5a9025f5",
   "metadata": {},
   "outputs": [],
   "source": [
    "def evaluate_model(y_true: pd.Series, y_pred: pd.Series, amount: pd.Series, model_name: str = \"Model Name\"):\n",
    "    \"\"\" Reusable function to evaluate all models\n",
    "    y_true (pd.Series): Actual values\n",
    "    y_pred (pd.Series): Predicted values\n",
    "    amount (pd.Series): Transaction amount\n",
    "    model_name (str): Name of model being evaluated\n",
    "    \n",
    "    Return:\n",
    "    matrics_dict (dict): dictionary containing responses\n",
    "    confusion_matrix (visualization)\n",
    "    recall,\n",
    "    cost_saved,\n",
    "    cost_lost\"\"\"\n",
    "\n",
    "    # implement cost-based evaluation\n",
    "    fraud_mask = (y_true == 1)\n",
    "    cost_saved = amount[fraud_mask & (y_pred==1)].sum()\n",
    "    cost_lost = amount[fraud_mask & (y_pred==0)].sum()\n",
    "    \n",
    "    metrics_dict = {\n",
    "        \"model_name\": model_name,\n",
    "        \"accuracy\": accuracy_score(y_true, y_pred),\n",
    "        \"precision\": precision_score(y_true, y_pred),\n",
    "        \"recall\": recall_score(y_true, y_pred),\n",
    "        \"f1score\": f1_score(y_true, y_pred),\n",
    "        \"conf_matrix\": confusion_matrix(y_true, y_pred),\n",
    "        \"cost_saved\": cost_saved,\n",
    "        \"cost_lost\": cost_lost,\n",
    "        \"cost_ratio\": cost_saved/cost_lost\n",
    "    }\n",
    "    return metrics_dict"
   ]
  },
  {
   "cell_type": "markdown",
   "id": "51581a98",
   "metadata": {},
   "source": [
    "### 3.1.2. Establish Baseline"
   ]
  },
  {
   "cell_type": "code",
   "execution_count": 152,
   "id": "8790e6a8",
   "metadata": {},
   "outputs": [
    {
     "data": {
      "text/plain": [
       "{'model_name': 'Baseline',\n",
       " 'accuracy': 0.9180291802918029,\n",
       " 'precision': 1.0,\n",
       " 'recall': 0.0019481310118105442,\n",
       " 'f1score': 0.0038886863531413293,\n",
       " 'conf_matrix': array([[91786,     0],\n",
       "        [ 8197,    16]]),\n",
       " 'cost_saved': 77785563.69,\n",
       " 'cost_lost': 11978629864.15,\n",
       " 'cost_ratio': 0.006493694568758565}"
      ]
     },
     "execution_count": 152,
     "metadata": {},
     "output_type": "execute_result"
    }
   ],
   "source": [
    "y_true = df['isFraud']\n",
    "y_pred = df['isFlaggedFraud']\n",
    "amount = df['amount']\n",
    "\n",
    "base_metrics = evaluate_model(y_true, y_pred, amount, \"Baseline\")\n",
    "base_metrics"
   ]
  },
  {
   "cell_type": "markdown",
   "id": "a063f509",
   "metadata": {},
   "source": [
    "## 3.2. Train Models\n",
    "\n",
    "**RandomForestClassifier** is model of choice for the following reasons:\n",
    "- Handles Imbalance: it handles class imbalance well\n",
    "- Non-Linear Relationships: captures complex patterns\n",
    "- Robustness: less sensitive to outliers\n",
    "- Scalability: works well with datasets of varying sizes\n",
    "- Interpretability: inbuilt feature importances, supports SHAP\n",
    "- Baseline Fit: matches periodic retraining and cost based evaluation\n",
    "\n",
    "Alternatives to RandomForestClassifier include:\n",
    "- XGBoost (EXtreme Gradient Boosting) Classifier\n",
    "- LogisticRegression: simpler and faster"
   ]
  },
  {
   "cell_type": "code",
   "execution_count": 202,
   "id": "c28906ce",
   "metadata": {},
   "outputs": [
    {
     "data": {
      "text/html": [
       "<div>\n",
       "<style scoped>\n",
       "    .dataframe tbody tr th:only-of-type {\n",
       "        vertical-align: middle;\n",
       "    }\n",
       "\n",
       "    .dataframe tbody tr th {\n",
       "        vertical-align: top;\n",
       "    }\n",
       "\n",
       "    .dataframe thead th {\n",
       "        text-align: right;\n",
       "    }\n",
       "</style>\n",
       "<table border=\"1\" class=\"dataframe\">\n",
       "  <thead>\n",
       "    <tr style=\"text-align: right;\">\n",
       "      <th></th>\n",
       "      <th>amount</th>\n",
       "      <th>oldbalanceOrg</th>\n",
       "      <th>newbalanceOrig</th>\n",
       "      <th>oldbalanceDest</th>\n",
       "      <th>newbalanceDest</th>\n",
       "      <th>hour</th>\n",
       "      <th>unscaled_amount</th>\n",
       "      <th>time_period</th>\n",
       "    </tr>\n",
       "  </thead>\n",
       "  <tbody>\n",
       "    <tr>\n",
       "      <th>0</th>\n",
       "      <td>-0.300032</td>\n",
       "      <td>-0.304034</td>\n",
       "      <td>-0.279313</td>\n",
       "      <td>-0.327973</td>\n",
       "      <td>-0.351882</td>\n",
       "      <td>-2.984775</td>\n",
       "      <td>181.00</td>\n",
       "      <td>early</td>\n",
       "    </tr>\n",
       "    <tr>\n",
       "      <th>1</th>\n",
       "      <td>-0.300032</td>\n",
       "      <td>-0.304034</td>\n",
       "      <td>-0.279313</td>\n",
       "      <td>-0.321436</td>\n",
       "      <td>-0.351882</td>\n",
       "      <td>-2.984775</td>\n",
       "      <td>181.00</td>\n",
       "      <td>early</td>\n",
       "    </tr>\n",
       "    <tr>\n",
       "      <th>2</th>\n",
       "      <td>0.455659</td>\n",
       "      <td>-0.304096</td>\n",
       "      <td>-0.279313</td>\n",
       "      <td>-0.100077</td>\n",
       "      <td>-0.347180</td>\n",
       "      <td>-2.984775</td>\n",
       "      <td>710544.77</td>\n",
       "      <td>early</td>\n",
       "    </tr>\n",
       "    <tr>\n",
       "      <th>3</th>\n",
       "      <td>-0.065451</td>\n",
       "      <td>-0.304096</td>\n",
       "      <td>-0.279313</td>\n",
       "      <td>1.552226</td>\n",
       "      <td>5.104851</td>\n",
       "      <td>-2.984775</td>\n",
       "      <td>220691.42</td>\n",
       "      <td>early</td>\n",
       "    </tr>\n",
       "    <tr>\n",
       "      <th>4</th>\n",
       "      <td>-0.297239</td>\n",
       "      <td>-0.303135</td>\n",
       "      <td>-0.279313</td>\n",
       "      <td>-0.327973</td>\n",
       "      <td>-0.351882</td>\n",
       "      <td>-2.984775</td>\n",
       "      <td>2806.00</td>\n",
       "      <td>early</td>\n",
       "    </tr>\n",
       "  </tbody>\n",
       "</table>\n",
       "</div>"
      ],
      "text/plain": [
       "     amount  oldbalanceOrg  newbalanceOrig  oldbalanceDest  newbalanceDest  \\\n",
       "0 -0.300032      -0.304034       -0.279313       -0.327973       -0.351882   \n",
       "1 -0.300032      -0.304034       -0.279313       -0.321436       -0.351882   \n",
       "2  0.455659      -0.304096       -0.279313       -0.100077       -0.347180   \n",
       "3 -0.065451      -0.304096       -0.279313        1.552226        5.104851   \n",
       "4 -0.297239      -0.303135       -0.279313       -0.327973       -0.351882   \n",
       "\n",
       "       hour  unscaled_amount time_period  \n",
       "0 -2.984775           181.00       early  \n",
       "1 -2.984775           181.00       early  \n",
       "2 -2.984775        710544.77       early  \n",
       "3 -2.984775        220691.42       early  \n",
       "4 -2.984775          2806.00       early  "
      ]
     },
     "execution_count": 202,
     "metadata": {},
     "output_type": "execute_result"
    }
   ],
   "source": [
    "X = pd.read_csv(\"data/processed/X_preprocessed.csv\")\n",
    "y = pd.read_csv(\"data/processed/y_preprocessed.csv\").values.ravel()\n",
    "\n",
    "X.head()"
   ]
  },
  {
   "cell_type": "code",
   "execution_count": 203,
   "id": "f16a8f11",
   "metadata": {},
   "outputs": [],
   "source": [
    "# split data into early, mid, late\n",
    "periods = ['early', 'mid', 'late']\n",
    "X_data, y_data = [], []\n",
    "for period in periods:\n",
    "    mask = X['time_period'] == period\n",
    "    X_data.append(X[mask])\n",
    "    y_data.append(y[mask])"
   ]
  },
  {
   "cell_type": "code",
   "execution_count": 204,
   "id": "6ef4b4b3",
   "metadata": {},
   "outputs": [
    {
     "name": "stdout",
     "output_type": "stream",
     "text": [
      "40653 40653\n",
      "41601 41601\n",
      "37066 37066\n"
     ]
    }
   ],
   "source": [
    "for x_i, y_i in zip(X_data, y_data):\n",
    "    print(len(x_i), len(y_i))"
   ]
  },
  {
   "cell_type": "code",
   "execution_count": 212,
   "id": "33f67fcf",
   "metadata": {},
   "outputs": [
    {
     "data": {
      "text/plain": [
       "{'model_name': 'Model 1',\n",
       " 'accuracy': 0.9858360761884206,\n",
       " 'precision': 0.9788833214030065,\n",
       " 'recall': 0.9593125219221326,\n",
       " 'f1score': 0.9689991142604075,\n",
       " 'conf_matrix': array([[28336,   177],\n",
       "        [  348,  8205]]),\n",
       " 'cost_saved': 13142122143.011726,\n",
       " 'cost_lost': 20461760.518576026,\n",
       " 'cost_ratio': 642.2771946275477}"
      ]
     },
     "execution_count": 212,
     "metadata": {},
     "output_type": "execute_result"
    }
   ],
   "source": [
    "train_features = ['amount', 'oldbalanceOrg', 'newbalanceOrig', 'oldbalanceDest', 'newbalanceDest', 'hour']\n",
    "rfc = RandomForestClassifier(random_state=42)\n",
    "rfc.fit(X_data[0][train_features], y_data[0])\n",
    "evaluate_model(y_data[2], rfc.predict(X_data[2][train_features]), X_data[2]['unscaled_amount'], \"Model 1\")"
   ]
  },
  {
   "cell_type": "code",
   "execution_count": 213,
   "id": "27dcd263",
   "metadata": {},
   "outputs": [
    {
     "data": {
      "text/plain": [
       "{'model_name': 'Model 2',\n",
       " 'accuracy': 0.9837856795985539,\n",
       " 'precision': 0.9818225884634028,\n",
       " 'recall': 0.9472699637554075,\n",
       " 'f1score': 0.9642368342755132,\n",
       " 'conf_matrix': array([[28363,   150],\n",
       "        [  451,  8102]]),\n",
       " 'cost_saved': 13136680894.561928,\n",
       " 'cost_lost': 25903008.968375128,\n",
       " 'cost_ratio': 507.14883782808573}"
      ]
     },
     "execution_count": 213,
     "metadata": {},
     "output_type": "execute_result"
    }
   ],
   "source": [
    "# adapting, training on mid data\n",
    "train_features = ['amount', 'oldbalanceOrg', 'newbalanceOrig', 'oldbalanceDest', 'newbalanceDest', 'hour']\n",
    "rfc.fit(X_data[1][train_features], y_data[1])\n",
    "evaluate_model(y_data[2], rfc.predict(X_data[2][train_features]), X_data[2]['unscaled_amount'], \"Model 2\")"
   ]
  },
  {
   "cell_type": "code",
   "execution_count": 218,
   "id": "87bed091",
   "metadata": {},
   "outputs": [
    {
     "data": {
      "text/plain": [
       "{'model_name': 'Model 3',\n",
       " 'accuracy': 0.9933908821149178,\n",
       " 'precision': 0.9829411764705882,\n",
       " 'recall': 0.9881726788882318,\n",
       " 'f1score': 0.985549985255087,\n",
       " 'conf_matrix': array([[5694,   29],\n",
       "        [  20, 1671]]),\n",
       " 'cost_saved': 2545744952.8218207,\n",
       " 'cost_lost': 1454904.755268132,\n",
       " 'cost_ratio': 1749.767428832585}"
      ]
     },
     "execution_count": 218,
     "metadata": {},
     "output_type": "execute_result"
    }
   ],
   "source": [
    "# adapting, training on mid data\n",
    "train_features = ['amount', 'oldbalanceOrg', 'newbalanceOrig', 'oldbalanceDest', 'newbalanceDest', 'hour']\n",
    "X_l_train, X_l_test, y_l_train, y_l_test = train_test_split(X_data[2], y_data[2], test_size=0.2, random_state=42)\n",
    "rfc.fit(X_l_train[train_features], y_l_train)\n",
    "evaluate_model(y_l_test, rfc.predict(X_l_test[train_features]), X_l_test['unscaled_amount'], \"Model 3\")"
   ]
  }
 ],
 "metadata": {
  "kernelspec": {
   "display_name": "fraud_detection",
   "language": "python",
   "name": "python3"
  },
  "language_info": {
   "codemirror_mode": {
    "name": "ipython",
    "version": 3
   },
   "file_extension": ".py",
   "mimetype": "text/x-python",
   "name": "python",
   "nbconvert_exporter": "python",
   "pygments_lexer": "ipython3",
   "version": "3.8.20"
  }
 },
 "nbformat": 4,
 "nbformat_minor": 5
}
